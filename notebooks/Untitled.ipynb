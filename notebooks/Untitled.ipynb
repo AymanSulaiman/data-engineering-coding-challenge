{
 "cells": [
  {
   "cell_type": "code",
   "execution_count": 1,
   "id": "be58fa32-bd05-4ed5-ad4c-b20ec8be5969",
   "metadata": {},
   "outputs": [],
   "source": [
    "import os\n",
    "from pprint import pprint"
   ]
  },
  {
   "cell_type": "code",
   "execution_count": 2,
   "id": "339ce7e4-3936-4c3a-935b-2e6406f2e357",
   "metadata": {},
   "outputs": [],
   "source": [
    "path = os.path.join(\"..\",\"data\",\"Q9Y261.xml\")"
   ]
  },
  {
   "cell_type": "code",
   "execution_count": 3,
   "id": "e695dcc6-d2c1-4ef1-b689-a94b09826886",
   "metadata": {},
   "outputs": [],
   "source": [
    "from Bio import SeqIO"
   ]
  },
  {
   "cell_type": "code",
   "execution_count": 5,
   "id": "0712acc9-1837-49d1-ad4b-7b6e50ba0192",
   "metadata": {},
   "outputs": [
    {
     "name": "stdout",
     "output_type": "stream",
     "text": [
      "Homo sapiens (Human)\n",
      "FOXA2_HUMAN\n",
      "MLGAVKMEGHEPSDWSSYYAEPEGYSSVSNMNAGLGMNGMNTYMSMSAAAMGSGSGNMSAGSMNMSSYVGAGMSPSLAGMSPGAGAMAGMGGSAGAAGVAGMGPHLSPSLSPLGGQAAGAMGGLAPYANMNSMSPMYGQAGLSRARDPKTYRRSYTHAKPPYSYISLITMAIQQSPNKMLTLSEIYQWIMDLFPFYRQNQQRWQNSIRHSLSFNDCFLKVPRSPDKPGKGSFWTLHPDSGNMFENGCYLRRQKRFKCEKQLALKEAAGAAGSGKKAAAGAQASQAQLGEAAGPASETPAGTESPHSSASPCQEHKRGGLGELKGTPAAALSPPEPAPSPGQQQQAAAHLLGPPHHPGLPPEAHLKPEHHYAFNHPFSINNLMSSEQQHHHSHHHHQPHKMDLKAYEQVMHYPGYGSPMPGSLAMGPVTNKTGLDASPLAADTSYYQGVYSRPIMNSS\n",
      "Q9Y261\n",
      "authors: Yamada S., Zhu Q., Aihara Y., Onda H., Zhang Z., Yu L., Jin L., Si Y.J., Nishigori H., Tomura H., Inoue I., Morikawa A., Yamagata K., Hanafusa T., Matsuzawa Y., Takeda J.\n",
      "title: Cloning of cDNA and the gene encoding human hepatocyte nuclear factor (HNF)-3 beta and mutation screening in Japanese subjects with maturity-onset diabetes of the young.\n",
      "journal: Diabetologia 43:121-124(2000)\n",
      "medline id: \n",
      "pubmed id: 10672453\n",
      "comment: journal article | 2000 | Scope: NUCLEOTIDE SEQUENCE [GENOMIC DNA / MRNA] (ISOFORM 1), VARIANT VAL-328 | Tissue: Liver\n",
      "\n",
      "Yamada S., Zhu Q., Aihara Y., Onda H., Zhang Z., Yu L., Jin L., Si Y.J., Nishigori H., Tomura H., Inoue I., Morikawa A., Yamagata K., Hanafusa T., Matsuzawa Y., Takeda J.\n",
      "Cloning of cDNA and the gene encoding human hepatocyte nuclear factor (HNF)-3 beta and mutation screening in Japanese subjects with maturity-onset diabetes of the young.\n",
      "Diabetologia 43:121-124(2000)\n",
      "10672453\n",
      "FOXA2\n",
      "['HNF3B', 'TCF3B']\n"
     ]
    }
   ],
   "source": [
    "for record in SeqIO.parse(path, \"uniprot-xml\"):\n",
    "    # Get organism information\n",
    "    organism = record.annotations[\"organism\"]\n",
    "    print(organism)\n",
    "    # Get protein information\n",
    "    name = record.name\n",
    "    print(name)\n",
    "    sequence = str(record.seq)\n",
    "    print(sequence)\n",
    "    accession = record.annotations[\"accessions\"][0]\n",
    "    print(accession)\n",
    "    \n",
    "    # Get reference information\n",
    "    reference = record.annotations[\"references\"][0]\n",
    "    print(reference)\n",
    "    authors = reference.authors\n",
    "    print(authors)\n",
    "    title = reference.title\n",
    "    print(title)\n",
    "    journal = reference.journal\n",
    "    print(journal)\n",
    "    pubmed_id = reference.pubmed_id\n",
    "    print(pubmed_id)\n",
    "    # Get feature information\n",
    "    primary_gene = record.annotations['gene_name_primary']\n",
    "    print(primary_gene)\n",
    "    synonym_genes = record.annotations['gene_name_synonym']\n",
    "    print(synonym_genes)"
   ]
  },
  {
   "cell_type": "markdown",
   "id": "e22a29cc-d8f0-4adf-a14b-2498623d65fe",
   "metadata": {},
   "source": [
    "Connecting to Neo4j"
   ]
  },
  {
   "cell_type": "code",
   "execution_count": null,
   "id": "03420418-31a9-4bc2-9970-6dcc60b01b16",
   "metadata": {},
   "outputs": [],
   "source": []
  }
 ],
 "metadata": {
  "kernelspec": {
   "display_name": "Python 3 (ipykernel)",
   "language": "python",
   "name": "python3"
  },
  "language_info": {
   "codemirror_mode": {
    "name": "ipython",
    "version": 3
   },
   "file_extension": ".py",
   "mimetype": "text/x-python",
   "name": "python",
   "nbconvert_exporter": "python",
   "pygments_lexer": "ipython3",
   "version": "3.10.10"
  }
 },
 "nbformat": 4,
 "nbformat_minor": 5
}
