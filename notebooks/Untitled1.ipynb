{
 "cells": [
  {
   "cell_type": "code",
   "execution_count": 1,
   "id": "060d50fa-ea5c-4081-b197-7911d244315a",
   "metadata": {},
   "outputs": [],
   "source": [
    "import os\n",
    "path = os.path.join(\"..\",\"data\",\"Q9Y261.xml\")"
   ]
  },
  {
   "cell_type": "code",
   "execution_count": 2,
   "id": "fca2f5cd-1a6d-4337-91b4-661a00813548",
   "metadata": {},
   "outputs": [],
   "source": [
    "from xml.etree import ElementTree as ET"
   ]
  },
  {
   "cell_type": "code",
   "execution_count": 3,
   "id": "585496c2-e350-4e22-99bf-ee190f37e701",
   "metadata": {},
   "outputs": [],
   "source": [
    "tree = ET.parse(path)\n",
    "root = tree.getroot()"
   ]
  },
  {
   "cell_type": "code",
   "execution_count": 4,
   "id": "68612fc5-136c-4650-bae2-6f8366d13016",
   "metadata": {},
   "outputs": [],
   "source": [
    "for reference in root.iter(\"reference\"):\n",
    "    # Extract information from reference\n",
    "    ref_key = reference.get(\"key\")\n",
    "    citation = reference.find(\"citation\")\n",
    "    citation_type = citation.get(\"type\")\n",
    "    citation_date = citation.get(\"date\")\n",
    "    citation_name = citation.get(\"name\")\n",
    "    citation_volume = citation.get(\"volume\")\n",
    "    citation_first = citation.get(\"first\")\n",
    "    citation_last = citation.get(\"last\")\n",
    "    title = citation.find(\"title\").text\n",
    "    \n",
    "    # Extract author names\n",
    "    author_names = []\n",
    "    for author in citation.find(\"authorList\").iter(\"person\"):\n",
    "        author_names.append(author.get(\"name\"))\n",
    "    \n",
    "    # Extract database references\n",
    "    db_references = []\n",
    "    for dbref in citation.iter(\"dbReference\"):\n",
    "        dbref_type = dbref.get(\"type\")\n",
    "        dbref_id = dbref.get(\"id\")\n",
    "        db_references.append((dbref_type, dbref_id))\n",
    "    \n",
    "    # Extract scopes\n",
    "    scopes = []\n",
    "    for scope in reference.iter(\"scope\"):\n",
    "        scopes.append(scope.text)\n",
    "    \n",
    "    # Extract source tissue\n",
    "    source_tissue = reference.find(\"source/tissue\").text\n",
    "    \n",
    "    # Extract organism name\n",
    "    organism_name = reference.find(\"organism/name\").text\n",
    "    \n",
    "    # Extract protein name\n",
    "    protein_name = reference.find(\"protein/recommendedName/fullName\").text\n",
    "    \n",
    "    # Extract feature\n",
    "    feature = reference.find(\"feature\").text\n",
    "    \n",
    "    # Extract gene\n",
    "    gene = reference.find(\"gene/name\").text"
   ]
  },
  {
   "cell_type": "code",
   "execution_count": null,
   "id": "154da144-2985-4cbf-9ddf-3931e3eb95eb",
   "metadata": {},
   "outputs": [],
   "source": []
  },
  {
   "cell_type": "code",
   "execution_count": null,
   "id": "8cbce9b7-44fe-498c-a0a4-1295a9affc13",
   "metadata": {},
   "outputs": [],
   "source": []
  }
 ],
 "metadata": {
  "kernelspec": {
   "display_name": "Python 3 (ipykernel)",
   "language": "python",
   "name": "python3"
  },
  "language_info": {
   "codemirror_mode": {
    "name": "ipython",
    "version": 3
   },
   "file_extension": ".py",
   "mimetype": "text/x-python",
   "name": "python",
   "nbconvert_exporter": "python",
   "pygments_lexer": "ipython3",
   "version": "3.10.10"
  }
 },
 "nbformat": 4,
 "nbformat_minor": 5
}
